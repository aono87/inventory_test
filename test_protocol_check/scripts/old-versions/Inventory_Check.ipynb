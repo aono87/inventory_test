{
  "nbformat": 4,
  "nbformat_minor": 0,
  "metadata": {
    "colab": {
      "provenance": []
    },
    "kernelspec": {
      "name": "python3",
      "display_name": "Python 3"
    },
    "language_info": {
      "name": "python"
    },
    "widgets": {
      "application/vnd.jupyter.widget-state+json": {
        "e565c029ced0428a95b623fff3d230ec": {
          "model_module": "@jupyter-widgets/controls",
          "model_name": "TextModel",
          "model_module_version": "1.5.0",
          "state": {
            "_dom_classes": [],
            "_model_module": "@jupyter-widgets/controls",
            "_model_module_version": "1.5.0",
            "_model_name": "TextModel",
            "_view_count": null,
            "_view_module": "@jupyter-widgets/controls",
            "_view_module_version": "1.5.0",
            "_view_name": "TextView",
            "continuous_update": true,
            "description": "GitHub token:",
            "description_tooltip": null,
            "disabled": false,
            "layout": "IPY_MODEL_9212b22a775944c19f44707f90338a12",
            "placeholder": "​",
            "style": "IPY_MODEL_80b87b27bf0d49cda636ad22a7cd28fa",
            "value": "ghp_YourTokenHere"
          }
        },
        "eb1d2c8f0e1e4429806d43eed3a2cbd6": {
          "model_module": "@jupyter-widgets/controls",
          "model_name": "IntTextModel",
          "model_module_version": "1.5.0",
          "state": {
            "_dom_classes": [],
            "_model_module": "@jupyter-widgets/controls",
            "_model_module_version": "1.5.0",
            "_model_name": "IntTextModel",
            "_view_count": null,
            "_view_module": "@jupyter-widgets/controls",
            "_view_module_version": "1.5.0",
            "_view_name": "IntTextView",
            "continuous_update": false,
            "description": "Sample size:",
            "description_tooltip": null,
            "disabled": false,
            "layout": "IPY_MODEL_0d3450a232ee4d789e469aa682360eb3",
            "step": 1,
            "style": "IPY_MODEL_dd1fb6283c3c41f191ac7e1c51c17232",
            "value": 50
          }
        },
        "9212b22a775944c19f44707f90338a12": {
          "model_module": "@jupyter-widgets/base",
          "model_name": "LayoutModel",
          "model_module_version": "1.2.0",
          "state": {
            "_model_module": "@jupyter-widgets/base",
            "_model_module_version": "1.2.0",
            "_model_name": "LayoutModel",
            "_view_count": null,
            "_view_module": "@jupyter-widgets/base",
            "_view_module_version": "1.2.0",
            "_view_name": "LayoutView",
            "align_content": null,
            "align_items": null,
            "align_self": null,
            "border": null,
            "bottom": null,
            "display": null,
            "flex": null,
            "flex_flow": null,
            "grid_area": null,
            "grid_auto_columns": null,
            "grid_auto_flow": null,
            "grid_auto_rows": null,
            "grid_column": null,
            "grid_gap": null,
            "grid_row": null,
            "grid_template_areas": null,
            "grid_template_columns": null,
            "grid_template_rows": null,
            "height": null,
            "justify_content": null,
            "justify_items": null,
            "left": null,
            "margin": null,
            "max_height": null,
            "max_width": null,
            "min_height": null,
            "min_width": null,
            "object_fit": null,
            "object_position": null,
            "order": null,
            "overflow": null,
            "overflow_x": null,
            "overflow_y": null,
            "padding": null,
            "right": null,
            "top": null,
            "visibility": null,
            "width": "80%"
          }
        },
        "80b87b27bf0d49cda636ad22a7cd28fa": {
          "model_module": "@jupyter-widgets/controls",
          "model_name": "DescriptionStyleModel",
          "model_module_version": "1.5.0",
          "state": {
            "_model_module": "@jupyter-widgets/controls",
            "_model_module_version": "1.5.0",
            "_model_name": "DescriptionStyleModel",
            "_view_count": null,
            "_view_module": "@jupyter-widgets/base",
            "_view_module_version": "1.2.0",
            "_view_name": "StyleView",
            "description_width": ""
          }
        },
        "0d3450a232ee4d789e469aa682360eb3": {
          "model_module": "@jupyter-widgets/base",
          "model_name": "LayoutModel",
          "model_module_version": "1.2.0",
          "state": {
            "_model_module": "@jupyter-widgets/base",
            "_model_module_version": "1.2.0",
            "_model_name": "LayoutModel",
            "_view_count": null,
            "_view_module": "@jupyter-widgets/base",
            "_view_module_version": "1.2.0",
            "_view_name": "LayoutView",
            "align_content": null,
            "align_items": null,
            "align_self": null,
            "border": null,
            "bottom": null,
            "display": null,
            "flex": null,
            "flex_flow": null,
            "grid_area": null,
            "grid_auto_columns": null,
            "grid_auto_flow": null,
            "grid_auto_rows": null,
            "grid_column": null,
            "grid_gap": null,
            "grid_row": null,
            "grid_template_areas": null,
            "grid_template_columns": null,
            "grid_template_rows": null,
            "height": null,
            "justify_content": null,
            "justify_items": null,
            "left": null,
            "margin": null,
            "max_height": null,
            "max_width": null,
            "min_height": null,
            "min_width": null,
            "object_fit": null,
            "object_position": null,
            "order": null,
            "overflow": null,
            "overflow_x": null,
            "overflow_y": null,
            "padding": null,
            "right": null,
            "top": null,
            "visibility": null,
            "width": null
          }
        },
        "dd1fb6283c3c41f191ac7e1c51c17232": {
          "model_module": "@jupyter-widgets/controls",
          "model_name": "DescriptionStyleModel",
          "model_module_version": "1.5.0",
          "state": {
            "_model_module": "@jupyter-widgets/controls",
            "_model_module_version": "1.5.0",
            "_model_name": "DescriptionStyleModel",
            "_view_count": null,
            "_view_module": "@jupyter-widgets/base",
            "_view_module_version": "1.2.0",
            "_view_name": "StyleView",
            "description_width": ""
          }
        },
        "1ae1a1a4b9384f788e029d77c75a55c9": {
          "model_module": "@jupyter-widgets/controls",
          "model_name": "DropdownModel",
          "model_module_version": "1.5.0",
          "state": {
            "_dom_classes": [],
            "_model_module": "@jupyter-widgets/controls",
            "_model_module_version": "1.5.0",
            "_model_name": "DropdownModel",
            "_options_labels": [
              "test_protocol_check/protocols/dna_extraction_mn.yaml",
              "test_protocol_check/protocols/pcr_setup.yaml"
            ],
            "_view_count": null,
            "_view_module": "@jupyter-widgets/controls",
            "_view_module_version": "1.5.0",
            "_view_name": "DropdownView",
            "description": "Protocol:",
            "description_tooltip": null,
            "disabled": false,
            "index": 0,
            "layout": "IPY_MODEL_27a958149aeb442abbd94b9ccf2c16a5",
            "style": "IPY_MODEL_2a6f00597d724ba28272572fdac43d3c"
          }
        },
        "27a958149aeb442abbd94b9ccf2c16a5": {
          "model_module": "@jupyter-widgets/base",
          "model_name": "LayoutModel",
          "model_module_version": "1.2.0",
          "state": {
            "_model_module": "@jupyter-widgets/base",
            "_model_module_version": "1.2.0",
            "_model_name": "LayoutModel",
            "_view_count": null,
            "_view_module": "@jupyter-widgets/base",
            "_view_module_version": "1.2.0",
            "_view_name": "LayoutView",
            "align_content": null,
            "align_items": null,
            "align_self": null,
            "border": null,
            "bottom": null,
            "display": null,
            "flex": null,
            "flex_flow": null,
            "grid_area": null,
            "grid_auto_columns": null,
            "grid_auto_flow": null,
            "grid_auto_rows": null,
            "grid_column": null,
            "grid_gap": null,
            "grid_row": null,
            "grid_template_areas": null,
            "grid_template_columns": null,
            "grid_template_rows": null,
            "height": null,
            "justify_content": null,
            "justify_items": null,
            "left": null,
            "margin": null,
            "max_height": null,
            "max_width": null,
            "min_height": null,
            "min_width": null,
            "object_fit": null,
            "object_position": null,
            "order": null,
            "overflow": null,
            "overflow_x": null,
            "overflow_y": null,
            "padding": null,
            "right": null,
            "top": null,
            "visibility": null,
            "width": "95%"
          }
        },
        "2a6f00597d724ba28272572fdac43d3c": {
          "model_module": "@jupyter-widgets/controls",
          "model_name": "DescriptionStyleModel",
          "model_module_version": "1.5.0",
          "state": {
            "_model_module": "@jupyter-widgets/controls",
            "_model_module_version": "1.5.0",
            "_model_name": "DescriptionStyleModel",
            "_view_count": null,
            "_view_module": "@jupyter-widgets/base",
            "_view_module_version": "1.2.0",
            "_view_name": "StyleView",
            "description_width": ""
          }
        }
      }
    }
  },
  "cells": [
    {
      "cell_type": "markdown",
      "source": [
        "# 🧪 Lab Supply Calculator\n",
        "\n",
        "Welcome! Use this tool to:\n",
        "\n",
        "- Select a protocol\n",
        "- Enter your sample size\n",
        "- Click \"Run All\"\n",
        "- Receive a downloadable CSV with supply needs and reorder status\n",
        "\n",
        "🔒 **Note**: You’ll need a GitHub access token to access the files. Please see Aubrie or Vicki for this.\n",
        "\n",
        "---"
      ],
      "metadata": {
        "id": "44eKAoT0aSNH"
      }
    },
    {
      "cell_type": "markdown",
      "source": [
        "## 🧭 Instructions\n",
        "\n",
        "1. Enter your **GitHub token**\n",
        "2. Enter the **sample size**\n",
        "3. Choose the **protocol**\n",
        "4. Click **Runtime → Run All**\n",
        "5. Download the CSV report when prompted\n",
        "\n",
        "---\n",
        "\n",
        "### Example:\n",
        "- Token: `ghp_XXXXXXXXXXXXXXXXXXXX`\n",
        "- Sample size: `50`\n",
        "\n"
      ],
      "metadata": {
        "id": "ZImpHI9inoLw"
      }
    },
    {
      "cell_type": "code",
      "source": [
        "\n",
        "#@title Experiment Setup\n",
        "#@markdown Select a protocol and sample size:\n",
        "# @title\n",
        "from IPython.display import display\n",
        "import ipywidgets as widgets\n",
        "\n",
        "# Token input\n",
        "token_input = widgets.Text(\n",
        "    value='ghp_YourTokenHere',  # Replace this value with blank if preferred\n",
        "    description='GitHub token:',\n",
        "    layout=widgets.Layout(width='80%')\n",
        ")\n",
        "\n",
        "# Sample size input\n",
        "sample_input = widgets.IntText(\n",
        "    value=50,\n",
        "    description='Sample size:',\n",
        "    disabled=False\n",
        ")\n",
        "\n",
        "# Protocol selection dropdown (static example list)\n",
        "protocol_dropdown = widgets.Dropdown(\n",
        "    options=[\n",
        "        \"test_protocol_check/protocols/dna_extraction_mn.yaml\",\n",
        "        \"test_protocol_check/protocols/pcr_setup.yaml\"\n",
        "    ],\n",
        "    description='Protocol:',\n",
        "    layout=widgets.Layout(width='95%')\n",
        ")\n",
        "\n",
        "# Display all widgets\n",
        "display(token_input, sample_input, protocol_dropdown)\n",
        "\n",
        "# Function to wait for token widget change\n",
        "async def wait_for_input(widget):\n",
        "    print(\"⏸️ Waiting for token input...\")\n",
        "    future = asyncio.get_event_loop().create_future()\n",
        "\n",
        "    def on_change(change):\n",
        "        if change['new']:\n",
        "            future.set_result(change['new'])\n",
        "\n",
        "    widget.observe(on_change, names='value')\n",
        "    await future\n",
        "    print(\"✅ Token received.\")\n",
        "\n",
        "# Pause here until the user enters a value\n",
        "await wait_for_input(token_input)\n",
        "\n",
        "# Now continue with the rest of your code\n",
        "token = token_input.value\n",
        "print(\"Token entered:\", token[:4] + \"...\")\n",
        "\n"
      ],
      "metadata": {
        "colab": {
          "base_uri": "https://localhost:8080/",
          "height": 437,
          "referenced_widgets": [
            "e565c029ced0428a95b623fff3d230ec",
            "eb1d2c8f0e1e4429806d43eed3a2cbd6",
            "9212b22a775944c19f44707f90338a12",
            "80b87b27bf0d49cda636ad22a7cd28fa",
            "0d3450a232ee4d789e469aa682360eb3",
            "dd1fb6283c3c41f191ac7e1c51c17232",
            "1ae1a1a4b9384f788e029d77c75a55c9",
            "27a958149aeb442abbd94b9ccf2c16a5",
            "2a6f00597d724ba28272572fdac43d3c"
          ]
        },
        "cellView": "form",
        "id": "LOPwZN0icxt9",
        "outputId": "2065f595-4aee-4ae2-9798-020d1d567621"
      },
      "execution_count": 61,
      "outputs": [
        {
          "output_type": "display_data",
          "data": {
            "text/plain": [
              "Text(value='ghp_YourTokenHere', description='GitHub token:', layout=Layout(width='80%'))"
            ],
            "application/vnd.jupyter.widget-view+json": {
              "version_major": 2,
              "version_minor": 0,
              "model_id": "e565c029ced0428a95b623fff3d230ec"
            }
          },
          "metadata": {}
        },
        {
          "output_type": "display_data",
          "data": {
            "text/plain": [
              "IntText(value=50, description='Sample size:')"
            ],
            "application/vnd.jupyter.widget-view+json": {
              "version_major": 2,
              "version_minor": 0,
              "model_id": "eb1d2c8f0e1e4429806d43eed3a2cbd6"
            }
          },
          "metadata": {}
        },
        {
          "output_type": "display_data",
          "data": {
            "text/plain": [
              "Dropdown(description='Protocol:', layout=Layout(width='95%'), options=('test_protocol_check/protocols/dna_extr…"
            ],
            "application/vnd.jupyter.widget-view+json": {
              "version_major": 2,
              "version_minor": 0,
              "model_id": "1ae1a1a4b9384f788e029d77c75a55c9"
            }
          },
          "metadata": {}
        },
        {
          "output_type": "stream",
          "name": "stdout",
          "text": [
            "⏸️ Waiting for token input...\n"
          ]
        },
        {
          "output_type": "error",
          "ename": "NameError",
          "evalue": "name 'asyncio' is not defined",
          "traceback": [
            "\u001b[0;31m---------------------------------------------------------------------------\u001b[0m",
            "\u001b[0;31mNameError\u001b[0m                                 Traceback (most recent call last)",
            "\u001b[0;32m/tmp/ipython-input-61-3427369922.py\u001b[0m in \u001b[0;36m<cell line: 1>\u001b[0;34m()\u001b[0m\n\u001b[1;32m     46\u001b[0m \u001b[0;34m\u001b[0m\u001b[0m\n\u001b[1;32m     47\u001b[0m \u001b[0;31m# Pause here until the user enters a value\u001b[0m\u001b[0;34m\u001b[0m\u001b[0;34m\u001b[0m\u001b[0m\n\u001b[0;32m---> 48\u001b[0;31m \u001b[0;32mawait\u001b[0m \u001b[0mwait_for_input\u001b[0m\u001b[0;34m(\u001b[0m\u001b[0mtoken_input\u001b[0m\u001b[0;34m)\u001b[0m\u001b[0;34m\u001b[0m\u001b[0;34m\u001b[0m\u001b[0m\n\u001b[0m\u001b[1;32m     49\u001b[0m \u001b[0;34m\u001b[0m\u001b[0m\n\u001b[1;32m     50\u001b[0m \u001b[0;31m# Now continue with the rest of your code\u001b[0m\u001b[0;34m\u001b[0m\u001b[0;34m\u001b[0m\u001b[0m\n",
            "\u001b[0;32m/tmp/ipython-input-61-3427369922.py\u001b[0m in \u001b[0;36mwait_for_input\u001b[0;34m(widget)\u001b[0m\n\u001b[1;32m     35\u001b[0m \u001b[0;32masync\u001b[0m \u001b[0;32mdef\u001b[0m \u001b[0mwait_for_input\u001b[0m\u001b[0;34m(\u001b[0m\u001b[0mwidget\u001b[0m\u001b[0;34m)\u001b[0m\u001b[0;34m:\u001b[0m\u001b[0;34m\u001b[0m\u001b[0;34m\u001b[0m\u001b[0m\n\u001b[1;32m     36\u001b[0m     \u001b[0mprint\u001b[0m\u001b[0;34m(\u001b[0m\u001b[0;34m\"⏸️ Waiting for token input...\"\u001b[0m\u001b[0;34m)\u001b[0m\u001b[0;34m\u001b[0m\u001b[0;34m\u001b[0m\u001b[0m\n\u001b[0;32m---> 37\u001b[0;31m     \u001b[0mfuture\u001b[0m \u001b[0;34m=\u001b[0m \u001b[0masyncio\u001b[0m\u001b[0;34m.\u001b[0m\u001b[0mget_event_loop\u001b[0m\u001b[0;34m(\u001b[0m\u001b[0;34m)\u001b[0m\u001b[0;34m.\u001b[0m\u001b[0mcreate_future\u001b[0m\u001b[0;34m(\u001b[0m\u001b[0;34m)\u001b[0m\u001b[0;34m\u001b[0m\u001b[0;34m\u001b[0m\u001b[0m\n\u001b[0m\u001b[1;32m     38\u001b[0m \u001b[0;34m\u001b[0m\u001b[0m\n\u001b[1;32m     39\u001b[0m     \u001b[0;32mdef\u001b[0m \u001b[0mon_change\u001b[0m\u001b[0;34m(\u001b[0m\u001b[0mchange\u001b[0m\u001b[0;34m)\u001b[0m\u001b[0;34m:\u001b[0m\u001b[0;34m\u001b[0m\u001b[0;34m\u001b[0m\u001b[0m\n",
            "\u001b[0;31mNameError\u001b[0m: name 'asyncio' is not defined"
          ]
        }
      ]
    },
    {
      "cell_type": "code",
      "source": [
        "#@title Installing packages\n",
        "#@markdown Installing packages\n",
        "\n",
        "\n",
        "# Step 1. Install required packages (if not already installed)\n",
        "!pip install pyyaml\n",
        "\n",
        "# Import libraries\n",
        "import requests\n",
        "import csv\n",
        "import yaml\n",
        "import pandas as pd\n",
        "import os\n",
        "from io import StringIO\n",
        "from google.colab import files\n",
        "from IPython.display import display\n",
        "import ipywidgets as widgets\n"
      ],
      "metadata": {
        "id": "OEG0_GouXs4G"
      },
      "execution_count": null,
      "outputs": []
    },
    {
      "cell_type": "code",
      "source": [
        "# @title Defining GitHub Repo configuration\n",
        "\n",
        "# 2. Define fixed GitHub repo configuration\n",
        "GITHUB_USER = \"aono87\"\n",
        "REPO_NAME = \"inventory_test\"\n",
        "BRANCH = \"main\"\n",
        "INVENTORY_PATH = \"test_protocol_check/inventory/inventory.csv\"\n",
        "PROTOCOL_DIR = \"test_protocol_check/protocols\"\n"
      ],
      "metadata": {
        "id": "9nAOyu1vYFEK"
      },
      "execution_count": null,
      "outputs": []
    },
    {
      "cell_type": "code",
      "source": [
        "#@title Fetching protocols from GitHub\n",
        "# 4. Function to fetch protocol file list from GitHub\n",
        "def get_protocol_list(token, user, repo, path, branch=\"main\"):\n",
        "    url = f\"https://api.github.com/repos/{user}/{repo}/contents/{path}?ref={branch}\"\n",
        "    headers = {\"Authorization\": f\"token {token}\"}\n",
        "    r = requests.get(url, headers=headers)\n",
        "    r.raise_for_status()\n",
        "    files = r.json()\n",
        "    return [f['path'] for f in files if f['name'].endswith('.yaml')]\n",
        "\n",
        "# Fetch protocol paths\n",
        "protocols = get_protocol_list(\n",
        "    token_input.value,\n",
        "    GITHUB_USER,\n",
        "    REPO_NAME,\n",
        "    PROTOCOL_DIR,\n",
        "    BRANCH\n",
        ")"
      ],
      "metadata": {
        "id": "i3TNI_rZYKSa"
      },
      "execution_count": null,
      "outputs": []
    },
    {
      "cell_type": "code",
      "source": [
        "#5. Define helper functions\n",
        "def github_raw_url(path):\n",
        "    return f\"https://raw.githubusercontent.com/{GITHUB_USER}/{REPO_NAME}/{BRANCH}/{path}\"\n",
        "\n",
        "def fetch_file(path, token):\n",
        "    url = github_raw_url(path)\n",
        "    headers = {\"Authorization\": f\"token {token}\"}\n",
        "    r = requests.get(url, headers=headers)\n",
        "    r.raise_for_status()\n",
        "    return r.text\n",
        "\n",
        "def load_inventory(text):\n",
        "    inv = {}\n",
        "    reader = csv.DictReader(StringIO(text.lstrip('\\ufeff')))\n",
        "    for row in reader:\n",
        "        item = row['Item'].strip()\n",
        "        inv[item] = {\n",
        "            'unit': row['Unit'].strip(),\n",
        "            'stock': float(row['Stock Quantity']),\n",
        "            'threshold': float(row['Reorder Threshold'])\n",
        "        }\n",
        "    return inv\n",
        "\n",
        "def load_protocol(text):\n",
        "    return yaml.safe_load(text)\n",
        "\n",
        "def calculate_needs(protocol_data, sample_count):\n",
        "    return {item: qty * sample_count for item, qty in protocol_data['supplies_per_sample'].items()}\n"
      ],
      "metadata": {
        "id": "1wzhz0FFYNhm"
      },
      "execution_count": null,
      "outputs": []
    },
    {
      "cell_type": "code",
      "source": [
        "# 6. Fetch and parse files\n",
        "inventory_text = fetch_file(INVENTORY_PATH, token_input.value)\n",
        "protocol_text = fetch_file(protocol_dropdown.value, token_input.value)\n",
        "\n",
        "inventory = load_inventory(inventory_text)\n",
        "protocol = load_protocol(protocol_text)\n",
        "needs = calculate_needs(protocol, sample_input.value)\n",
        "\n",
        "# Create report including per-sample use\n",
        "report_rows = []\n",
        "\n",
        "# Pull per-sample values from protocol YAML\n",
        "per_sample = protocol[\"supplies_per_sample\"]\n",
        "\n",
        "for item, total_required in needs.items():\n",
        "    per_unit = per_sample.get(item, \"N/A\")\n",
        "    inv = inventory.get(item)\n",
        "\n",
        "    if not inv:\n",
        "        report_rows.append({\n",
        "            \"Item\": item,\n",
        "            \"Per Sample\": per_unit,\n",
        "            \"Need\": total_required,\n",
        "            \"Stock\": None,\n",
        "            \"Status\": \"MISSING\",\n",
        "            \"Reorder\": \"⚠️\"\n",
        "        })\n",
        "    else:\n",
        "        stock = inv['stock']\n",
        "        threshold = inv['threshold']\n",
        "        status = \"OK\" if stock >= total_required else \"LOW\"\n",
        "        reorder_flag = \"YES\" if (stock - total_required) < threshold else \"NO\"\n",
        "        report_rows.append({\n",
        "            \"Item\": item,\n",
        "            \"Per Sample\": per_unit,\n",
        "            \"Need\": round(total_required, 2),\n",
        "            \"Stock\": round(stock, 2),\n",
        "            \"Status\": status,\n",
        "            \"Reorder\": reorder_flag\n",
        "        })\n",
        "\n",
        "# Convert to DataFrame\n",
        "df = pd.DataFrame(report_rows)\n",
        "\n",
        "# Show the updated report in notebook\n",
        "print(f\"\\n📋 Supply Report for {sample_input.value} samples using {protocol_dropdown.value}\")\n",
        "print(df.to_string(index=False))\n"
      ],
      "metadata": {
        "id": "zVyZ3VYPYTO2"
      },
      "execution_count": null,
      "outputs": []
    },
    {
      "cell_type": "code",
      "source": [
        "# 7. Save and download CSV report with metadata\n",
        "\n",
        "# Extract just the filename from the protocol path\n",
        "protocol_name = os.path.basename(protocol_dropdown.value)\n",
        "\n",
        "# Prepare metadata rows\n",
        "metadata_rows = pd.DataFrame([\n",
        "    {\"Item\": \"Protocol:\", \"Need\": protocol_name, \"Stock\": \"\", \"Status\": \"\", \"Reorder\": \"\"},\n",
        "    {\"Item\": \"Sample Size:\", \"Need\": sample_input.value, \"Stock\": \"\", \"Status\": \"\", \"Reorder\": \"\"},\n",
        "    {},  # Blank row for separation\n",
        "])\n",
        "\n",
        "# Path to save CSV\n",
        "output_path = \"/content/supply_report.csv\"\n",
        "\n",
        "# Write metadata (no header)\n",
        "metadata_rows.to_csv(output_path, mode='w', index=False, header=False)\n",
        "\n",
        "# Append main dataframe with headers\n",
        "df.to_csv(output_path, mode='a', index=False, header=True)\n",
        "\n",
        "# Trigger download\n",
        "print(\"\\n✅ CSV with metadata saved. Downloading...\")\n",
        "files.download(output_path)"
      ],
      "metadata": {
        "id": "EeezVJGakNdO"
      },
      "execution_count": null,
      "outputs": []
    }
  ]
}